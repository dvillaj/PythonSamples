{
 "cells": [
  {
   "cell_type": "markdown",
   "metadata": {},
   "source": [
    "https://jeffknupp.com/blog/2016/03/07/python-with-context-managers/"
   ]
  },
  {
   "cell_type": "markdown",
   "metadata": {},
   "source": [
    "https://realpython.com/primer-on-python-decorators/"
   ]
  },
  {
   "cell_type": "markdown",
   "metadata": {},
   "source": [
    "https://www.python-course.eu/python3_decorators.php"
   ]
  },
  {
   "cell_type": "code",
   "execution_count": 13,
   "metadata": {},
   "outputs": [
    {
     "name": "stdout",
     "output_type": "stream",
     "text": [
      "0\n",
      "10\n"
     ]
    }
   ],
   "source": [
    "def call_counter(decoreted_function):\n",
    "    def x(arg):\n",
    "        x.calls += 1\n",
    "        return decoreted_function(arg)\n",
    "    x.calls = 0\n",
    "\n",
    "    return x\n",
    "\n",
    "@call_counter\n",
    "def succ(x):\n",
    "    return x + 1\n",
    "\n",
    "print(succ.calls)\n",
    "for i in range(10):\n",
    "    succ(i)\n",
    "    \n",
    "print(succ.calls)"
   ]
  },
  {
   "cell_type": "code",
   "execution_count": 11,
   "metadata": {},
   "outputs": [
    {
     "name": "stdout",
     "output_type": "stream",
     "text": [
      "10\n"
     ]
    }
   ],
   "source": [
    "succ"
   ]
  },
  {
   "cell_type": "code",
   "execution_count": 12,
   "metadata": {},
   "outputs": [
    {
     "name": "stdout",
     "output_type": "stream",
     "text": [
      "0\n",
      "10\n",
      "3\n"
     ]
    }
   ],
   "source": [
    "def call_counter(func):\n",
    "    def helper(*args, **kwargs):\n",
    "        helper.calls += 1\n",
    "        return func(*args, **kwargs)\n",
    "    helper.calls = 0\n",
    "\n",
    "    return helper\n",
    "\n",
    "@call_counter\n",
    "def succ(x):\n",
    "    return x + 1\n",
    "\n",
    "@call_counter\n",
    "def mul1(x, y=1):\n",
    "    return x*y + 1\n",
    "\n",
    "print(succ.calls)\n",
    "for i in range(10):\n",
    "    succ(i)\n",
    "mul1(3, 4)\n",
    "mul1(4)\n",
    "mul1(y=3, x=2)\n",
    "    \n",
    "print(succ.calls)\n",
    "print(mul1.calls)"
   ]
  },
  {
   "cell_type": "code",
   "execution_count": 14,
   "metadata": {},
   "outputs": [
    {
     "name": "stdout",
     "output_type": "stream",
     "text": [
      "An instance of A was initialized\n",
      "now calling the instance:\n",
      "Arguments are: (3, 4) {'x': 11, 'y': 10}\n",
      "Let's call it again:\n",
      "Arguments are: (3, 4) {'x': 11, 'y': 10}\n"
     ]
    }
   ],
   "source": [
    "class A:\n",
    "    \n",
    "    def __init__(self):\n",
    "        print(\"An instance of A was initialized\")\n",
    "    \n",
    "    def __call__(self, *args, **kwargs):\n",
    "        print(\"Arguments are:\", args, kwargs)\n",
    "              \n",
    "x = A()\n",
    "print(\"now calling the instance:\")\n",
    "x(3, 4, x=11, y=10)\n",
    "print(\"Let's call it again:\")\n",
    "x(3, 4, x=11, y=10)"
   ]
  },
  {
   "cell_type": "code",
   "execution_count": 20,
   "metadata": {},
   "outputs": [
    {
     "name": "stdout",
     "output_type": "stream",
     "text": [
      "No!\n",
      "Wheee!\n",
      "Something is happening after some_function() is called.\n",
      "No!\n",
      "Wheee!\n",
      "Something is happening after some_function() is called.\n",
      "No!\n",
      "Wheee!\n",
      "Something is happening after some_function() is called.\n",
      "No!\n",
      "Wheee!\n",
      "Something is happening after some_function() is called.\n",
      "No!\n",
      "Wheee!\n",
      "Something is happening after some_function() is called.\n",
      "No!\n",
      "Wheee!\n",
      "Something is happening after some_function() is called.\n",
      "No!\n",
      "Wheee!\n",
      "Something is happening after some_function() is called.\n",
      "No!\n",
      "Wheee!\n",
      "Something is happening after some_function() is called.\n",
      "No!\n",
      "Wheee!\n",
      "Something is happening after some_function() is called.\n",
      "Yes!\n",
      "Wheee!\n",
      "Something is happening after some_function() is called.\n",
      "No!\n",
      "Wheee!\n",
      "Something is happening after some_function() is called.\n"
     ]
    }
   ],
   "source": [
    "def my_decorator(some_function):\n",
    "    \n",
    "    \n",
    "    def wrapper():\n",
    "\n",
    "        wrapper.num += 1\n",
    "\n",
    "        if wrapper.num == 10:\n",
    "            print(\"Yes!\")\n",
    "        else:\n",
    "            print(\"No!\")\n",
    "\n",
    "        some_function()\n",
    "\n",
    "        print(\"Something is happening after some_function() is called.\")\n",
    "        \n",
    "    wrapper.num = 0\n",
    "\n",
    "\n",
    "    return wrapper\n",
    "\n",
    "\n",
    "def just_some_function():\n",
    "    print(\"Wheee!\")\n",
    "\n",
    "just_some_function = my_decorator(just_some_function)\n",
    "\n",
    "just_some_function()\n",
    "just_some_function()\n",
    "just_some_function()\n",
    "just_some_function()\n",
    "just_some_function()\n",
    "just_some_function()\n",
    "just_some_function()\n",
    "just_some_function()\n",
    "just_some_function()\n",
    "just_some_function()\n",
    "just_some_function()"
   ]
  },
  {
   "cell_type": "markdown",
   "metadata": {},
   "source": [
    "https://en.wikibooks.org/wiki/Python_Programming/Reflection"
   ]
  },
  {
   "cell_type": "markdown",
   "metadata": {},
   "source": [
    "https://www.geeksforgeeks.org/reflection-in-python/"
   ]
  },
  {
   "cell_type": "markdown",
   "metadata": {},
   "source": [
    "https://programacion.net/articulo/como_funcionan_las_metaclases_en_python_1517"
   ]
  },
  {
   "cell_type": "markdown",
   "metadata": {},
   "source": [
    "http://corderomartinez.es/blog/2016/11/metaclases-de-python/"
   ]
  },
  {
   "cell_type": "markdown",
   "metadata": {},
   "source": [
    "http://blog.thedigitalcatonline.com/"
   ]
  },
  {
   "cell_type": "markdown",
   "metadata": {},
   "source": [
    "https://bytebaker.com/2008/07/30/python-namespaces/"
   ]
  },
  {
   "cell_type": "markdown",
   "metadata": {},
   "source": [
    "https://www.programiz.com/python-programming/namespace"
   ]
  },
  {
   "cell_type": "markdown",
   "metadata": {},
   "source": [
    "https://blog.confirm.ch/python-namespaces/"
   ]
  },
  {
   "cell_type": "code",
   "execution_count": null,
   "metadata": {},
   "outputs": [],
   "source": []
  }
 ],
 "metadata": {
  "kernelspec": {
   "display_name": "Python 3",
   "language": "python",
   "name": "python3"
  },
  "language_info": {
   "codemirror_mode": {
    "name": "ipython",
    "version": 3
   },
   "file_extension": ".py",
   "mimetype": "text/x-python",
   "name": "python",
   "nbconvert_exporter": "python",
   "pygments_lexer": "ipython3",
   "version": "3.6.3"
  }
 },
 "nbformat": 4,
 "nbformat_minor": 2
}
