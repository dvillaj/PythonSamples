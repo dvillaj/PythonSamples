{
 "cells": [
  {
   "cell_type": "code",
   "execution_count": 1,
   "metadata": {},
   "outputs": [],
   "source": [
    "def solve(a, b):\n",
    "    def solve_single(a,b):\n",
    "        if (a > b):\n",
    "            return (1,0)\n",
    "        elif (a < b):\n",
    "            return (0,1)\n",
    "        else:\n",
    "            return (0,0)\n",
    "        return res\n",
    "        \n",
    "    a, b = zip(*[solve_single(*p) for p in zip(a,b)])\n",
    "    return (sum(a), sum(b))"
   ]
  },
  {
   "cell_type": "code",
   "execution_count": 3,
   "metadata": {},
   "outputs": [
    {
     "data": {
      "text/plain": [
       "(2, 1)"
      ]
     },
     "execution_count": 3,
     "metadata": {},
     "output_type": "execute_result"
    }
   ],
   "source": [
    "uno = [5,6,7, 16]\n",
    "dos = [3,6,10, 10]\n",
    "\n",
    "solve(uno, dos)"
   ]
  },
  {
   "cell_type": "code",
   "execution_count": null,
   "metadata": {},
   "outputs": [],
   "source": []
  }
 ],
 "metadata": {
  "kernelspec": {
   "display_name": "Python 3",
   "language": "python",
   "name": "python3"
  },
  "language_info": {
   "codemirror_mode": {
    "name": "ipython",
    "version": 3
   },
   "file_extension": ".py",
   "mimetype": "text/x-python",
   "name": "python",
   "nbconvert_exporter": "python",
   "pygments_lexer": "ipython3",
   "version": "3.6.4"
  }
 },
 "nbformat": 4,
 "nbformat_minor": 2
}
