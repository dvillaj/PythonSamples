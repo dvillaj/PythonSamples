{
 "cells": [
  {
   "cell_type": "markdown",
   "metadata": {},
   "source": [
    "http://docs.python-guide.org/en/latest/scenarios/xml/"
   ]
  },
  {
   "cell_type": "markdown",
   "metadata": {},
   "source": [
    "http://stackabuse.com/reading-and-writing-xml-files-in-python/"
   ]
  },
  {
   "cell_type": "markdown",
   "metadata": {},
   "source": [
    "https://wiki.python.org/moin/PythonXml"
   ]
  },
  {
   "cell_type": "code",
   "execution_count": 2,
   "metadata": {},
   "outputs": [],
   "source": [
    "import untangle"
   ]
  },
  {
   "cell_type": "code",
   "execution_count": 16,
   "metadata": {},
   "outputs": [
    {
     "name": "stdout",
     "output_type": "stream",
     "text": [
      "Overwriting file.xml\n"
     ]
    }
   ],
   "source": [
    "%%file file.xml\n",
    "<?xml version=\"1.0\"?>\n",
    "<root>\n",
    "    <child name=\"child1\"/>\n",
    "</root>"
   ]
  },
  {
   "cell_type": "code",
   "execution_count": 32,
   "metadata": {},
   "outputs": [],
   "source": [
    "obj = untangle.parse('file.xml')"
   ]
  },
  {
   "cell_type": "code",
   "execution_count": 33,
   "metadata": {},
   "outputs": [
    {
     "data": {
      "text/plain": [
       "untangle.Element"
      ]
     },
     "execution_count": 33,
     "metadata": {},
     "output_type": "execute_result"
    }
   ],
   "source": [
    "type(obj)"
   ]
  },
  {
   "cell_type": "code",
   "execution_count": 19,
   "metadata": {},
   "outputs": [
    {
     "data": {
      "text/plain": [
       "'child1'"
      ]
     },
     "execution_count": 19,
     "metadata": {},
     "output_type": "execute_result"
    }
   ],
   "source": [
    "obj.root.child['name']"
   ]
  },
  {
   "cell_type": "code",
   "execution_count": 35,
   "metadata": {},
   "outputs": [
    {
     "name": "stdout",
     "output_type": "stream",
     "text": [
      "Codementor: How I built a full stack signage solution using Python, Tornado and Arduino.\n",
      "    https://www.codementor.io/liavkoren/how-and-why-i-built-how-i-built-a-full-stack-signage-solution-using-python-tornado-and-arudino-jith2dhq9\n",
      "Real Python: Python 3's f-Strings: An Improved String Formatting Syntax (Guide)\n",
      "    https://realpython.com/python-f-strings/\n",
      "Mike Driscoll: PyCon 2018 – Conference Day 3 (May 13)\n",
      "    http://www.blog.pythonlibrary.org/2018/05/14/pycon-2018-conference-day-3-may-13/\n",
      "\"Menno's Musings\": Never Write Shell Scripts Again\n",
      "    http://menno.io/posts/never-write-shell-scripts-again/\n",
      "Robin Wilson: BankClassify: simple automatic classification of bank statement entries\n",
      "    http://blog.rtwilson.com/bankclassify-simple-automatic-classification-of-bank-statement-entries/\n",
      "Martin Fitzpatrick: Lucky Cat Spinning-arm Display\n",
      "    https://martinfitzpatrick.name/article/lucky-spinning-arm-message-cat/\n",
      "Mike Driscoll: PyDev of the Week: Anthony Shaw\n",
      "    http://www.blog.pythonlibrary.org/2018/05/14/pydev-of-the-week-anthony-shaw/\n",
      "Montreal Python User Group: Montreal-Python 72: Call for speakers\n",
      "    http://montrealpython.org/en/2018/05/mp72-cfp/\n",
      "Mike Driscoll: PyCon 2018 – Conference Day 2 (May 12)\n",
      "    http://www.blog.pythonlibrary.org/2018/05/13/pycon-2018-conference-day-2-may-12/\n",
      "Nikola: Nikola v8.0.0b2 is out!\n",
      "    https://getnikola.com/blog/nikola-v800b2-is-out.html\n",
      "Dan Crosta: Now Seeking PyGotham Program Committee Members\n",
      "    https://late.am/post/2018/05/13/seeking-pygotham-program-committee-members.html\n",
      "Amit Saha: Video: PYCON US 2018 Talk - Counter, Gauge, Oh my!\n",
      "    https://echorand.me/video-pycon-us-2018-talk-counter-gauge-oh-my.html\n",
      "Amit Saha: A demo plugin based Python code analyser\n",
      "    https://echorand.me/a-demo-plugin-based-python-code-analyser.html\n",
      "Weekly Python StackOverflow Report: (cxxv) stackoverflow python report\n",
      "    http://python-weekly.blogspot.com/2018/05/cxxv-stackoverflow-python-report.html\n",
      "Python Does What?!: Captain, the python grammar can't take anymore!\n",
      "    http://www.pythondoeswhat.com/2018/05/captain-python-grammar-cant-take-anymore.html\n",
      "Mike Driscoll: PyCon 2018 – Conference Day 1 (May 11)\n",
      "    http://www.blog.pythonlibrary.org/2018/05/12/pycon-2018-conference-day-1-may-11/\n",
      "Fabio Zadrozny: Howto launch and debug in VSCode using the debug adapter protocol (part 2)\n",
      "    http://feedproxy.google.com/~r/blogspot/pydev/~3/cj5dn6t4n5k/howto-launch-and-debug-in-vscode-using_12.html\n",
      "Python Bytes: #77 You Don't Have To Be a Workaholic To Win\n",
      "    https://pythonbytes.fm/episodes/show/77/you-don-t-have-to-be-a-workaholic-to-win\n",
      "Talk Python to Me: #161 Django 2.0\n",
      "    https://talkpython.fm/episodes/show/161/django-2.0\n",
      "Codementor: Launching an AWS MySQL server and importing data from csv files (for free!)\n",
      "    https://www.codementor.io/michaeldu/launching-an-aws-mysql-server-and-importing-data-from-csv-files-for-free-jfpcu409p\n",
      "Codementor: Preferable tools for machine learning - Python - MatLab - R\n",
      "    https://www.codementor.io/blacksand/preferable-tools-for-machine-learning-python-matlab-r-jfozzpphz\n",
      "Anwesha Das: Is PyCon 2018 your first PyCon?\n",
      "    http://anweshadas.in/is-pycon-2018-your-first-pycon/\n",
      "Semaphore Community: Getting Started with Mocking in Python\n",
      "    https://semaphoreci.com/community/tutorials/getting-started-with-mocking-in-python\n",
      "Peter Bengtsson: Always return namespaces in Django REST Framework\n",
      "    https://www.peterbe.com/plog/always-return-namespaces-in-django-rest-framework\n",
      "Anwesha Das: PyLadies at PyCon\n",
      "    http://anweshadas.in/pyladies-at-pycon-2/\n"
     ]
    }
   ],
   "source": [
    "XML = 'http://planet.python.org/rss20.xml'\n",
    " \n",
    "o = untangle.parse(XML)\n",
    "for item in o.rss.channel.item:\n",
    "    title = item.title.cdata\n",
    "    link = item.link.cdata\n",
    "    if link:\n",
    "        print(title)\n",
    "        print('   ', link)"
   ]
  },
  {
   "cell_type": "code",
   "execution_count": 20,
   "metadata": {},
   "outputs": [
    {
     "name": "stdout",
     "output_type": "stream",
     "text": [
      "Overwriting file.xml\n"
     ]
    }
   ],
   "source": [
    "%%file file.xml\n",
    "<?xml version=\"1.0\"?>\n",
    "<mydocument has=\"an attribute\">\n",
    "  <and>\n",
    "    <many>elements</many>\n",
    "    <many>more elements</many>\n",
    "  </and>\n",
    "  <plus a=\"complex\">\n",
    "    element as well\n",
    "  </plus>\n",
    "</mydocument>"
   ]
  },
  {
   "cell_type": "code",
   "execution_count": 23,
   "metadata": {},
   "outputs": [],
   "source": [
    "import xmltodict\n",
    "\n",
    "with open('file.xml') as fd:\n",
    "    doc = xmltodict.parse(fd.read())"
   ]
  },
  {
   "cell_type": "code",
   "execution_count": 24,
   "metadata": {},
   "outputs": [
    {
     "data": {
      "text/plain": [
       "OrderedDict([('mydocument',\n",
       "              OrderedDict([('@has', 'an attribute'),\n",
       "                           ('and',\n",
       "                            OrderedDict([('many',\n",
       "                                          ['elements', 'more elements'])])),\n",
       "                           ('plus',\n",
       "                            OrderedDict([('@a', 'complex'),\n",
       "                                         ('#text', 'element as well')]))]))])"
      ]
     },
     "execution_count": 24,
     "metadata": {},
     "output_type": "execute_result"
    }
   ],
   "source": [
    "doc"
   ]
  },
  {
   "cell_type": "code",
   "execution_count": 28,
   "metadata": {},
   "outputs": [
    {
     "name": "stdout",
     "output_type": "stream",
     "text": [
      "an attribute\n",
      "['elements', 'more elements']\n",
      "complex\n",
      "element as well\n"
     ]
    }
   ],
   "source": [
    "print(doc['mydocument']['@has']) # == u'an attribute'\n",
    "print(doc['mydocument']['and']['many']) # == [u'elements', u'more elements']\n",
    "print(doc['mydocument']['plus']['@a']) # == u'complex'\n",
    "print(doc['mydocument']['plus']['#text']) # == u'element as well'"
   ]
  },
  {
   "cell_type": "code",
   "execution_count": 29,
   "metadata": {},
   "outputs": [],
   "source": [
    "import json"
   ]
  },
  {
   "cell_type": "code",
   "execution_count": 30,
   "metadata": {},
   "outputs": [
    {
     "data": {
      "text/plain": [
       "'{\"mydocument\": {\"@has\": \"an attribute\", \"and\": {\"many\": [\"elements\", \"more elements\"]}, \"plus\": {\"@a\": \"complex\", \"#text\": \"element as well\"}}}'"
      ]
     },
     "execution_count": 30,
     "metadata": {},
     "output_type": "execute_result"
    }
   ],
   "source": [
    "json.dumps(doc)"
   ]
  },
  {
   "cell_type": "code",
   "execution_count": null,
   "metadata": {},
   "outputs": [],
   "source": []
  }
 ],
 "metadata": {
  "kernelspec": {
   "display_name": "Python 3",
   "language": "python",
   "name": "python3"
  },
  "language_info": {
   "codemirror_mode": {
    "name": "ipython",
    "version": 3
   },
   "file_extension": ".py",
   "mimetype": "text/x-python",
   "name": "python",
   "nbconvert_exporter": "python",
   "pygments_lexer": "ipython3",
   "version": "3.6.3"
  }
 },
 "nbformat": 4,
 "nbformat_minor": 2
}
